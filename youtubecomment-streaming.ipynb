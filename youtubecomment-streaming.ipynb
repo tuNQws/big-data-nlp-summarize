{
 "cells": [
  {
   "cell_type": "code",
   "execution_count": 1,
   "id": "476d5f95",
   "metadata": {},
   "outputs": [
    {
     "name": "stdout",
     "output_type": "stream",
     "text": [
      "Requirement already satisfied: transformers in c:\\users\\tuanq\\appdata\\local\\packages\\pythonsoftwarefoundation.python.3.10_qbz5n2kfra8p0\\localcache\\local-packages\\python310\\site-packages (4.51.3)\n",
      "Requirement already satisfied: pyyaml>=5.1 in c:\\users\\tuanq\\appdata\\local\\packages\\pythonsoftwarefoundation.python.3.10_qbz5n2kfra8p0\\localcache\\local-packages\\python310\\site-packages (from transformers) (6.0.2)\n",
      "Requirement already satisfied: packaging>=20.0 in c:\\users\\tuanq\\appdata\\local\\packages\\pythonsoftwarefoundation.python.3.10_qbz5n2kfra8p0\\localcache\\local-packages\\python310\\site-packages (from transformers) (25.0)\n",
      "Requirement already satisfied: requests in c:\\users\\tuanq\\appdata\\local\\packages\\pythonsoftwarefoundation.python.3.10_qbz5n2kfra8p0\\localcache\\local-packages\\python310\\site-packages (from transformers) (2.32.3)\n",
      "Requirement already satisfied: filelock in c:\\users\\tuanq\\appdata\\local\\packages\\pythonsoftwarefoundation.python.3.10_qbz5n2kfra8p0\\localcache\\local-packages\\python310\\site-packages (from transformers) (3.18.0)\n",
      "Requirement already satisfied: huggingface-hub<1.0,>=0.30.0 in c:\\users\\tuanq\\appdata\\local\\packages\\pythonsoftwarefoundation.python.3.10_qbz5n2kfra8p0\\localcache\\local-packages\\python310\\site-packages (from transformers) (0.31.1)\n",
      "Requirement already satisfied: safetensors>=0.4.3 in c:\\users\\tuanq\\appdata\\local\\packages\\pythonsoftwarefoundation.python.3.10_qbz5n2kfra8p0\\localcache\\local-packages\\python310\\site-packages (from transformers) (0.5.3)\n",
      "Requirement already satisfied: tqdm>=4.27 in c:\\users\\tuanq\\appdata\\local\\packages\\pythonsoftwarefoundation.python.3.10_qbz5n2kfra8p0\\localcache\\local-packages\\python310\\site-packages (from transformers) (4.67.1)\n",
      "Requirement already satisfied: numpy>=1.17 in c:\\users\\tuanq\\appdata\\local\\packages\\pythonsoftwarefoundation.python.3.10_qbz5n2kfra8p0\\localcache\\local-packages\\python310\\site-packages (from transformers) (1.26.4)\n",
      "Requirement already satisfied: regex!=2019.12.17 in c:\\users\\tuanq\\appdata\\local\\packages\\pythonsoftwarefoundation.python.3.10_qbz5n2kfra8p0\\localcache\\local-packages\\python310\\site-packages (from transformers) (2024.11.6)\n",
      "Requirement already satisfied: tokenizers<0.22,>=0.21 in c:\\users\\tuanq\\appdata\\local\\packages\\pythonsoftwarefoundation.python.3.10_qbz5n2kfra8p0\\localcache\\local-packages\\python310\\site-packages (from transformers) (0.21.1)\n",
      "Requirement already satisfied: fsspec>=2023.5.0 in c:\\users\\tuanq\\appdata\\local\\packages\\pythonsoftwarefoundation.python.3.10_qbz5n2kfra8p0\\localcache\\local-packages\\python310\\site-packages (from huggingface-hub<1.0,>=0.30.0->transformers) (2025.3.2)\n",
      "Requirement already satisfied: typing-extensions>=3.7.4.3 in c:\\users\\tuanq\\appdata\\local\\packages\\pythonsoftwarefoundation.python.3.10_qbz5n2kfra8p0\\localcache\\local-packages\\python310\\site-packages (from huggingface-hub<1.0,>=0.30.0->transformers) (4.13.2)\n",
      "Requirement already satisfied: colorama in c:\\users\\tuanq\\appdata\\local\\packages\\pythonsoftwarefoundation.python.3.10_qbz5n2kfra8p0\\localcache\\local-packages\\python310\\site-packages (from tqdm>=4.27->transformers) (0.4.6)\n",
      "Requirement already satisfied: charset-normalizer<4,>=2 in c:\\users\\tuanq\\appdata\\local\\packages\\pythonsoftwarefoundation.python.3.10_qbz5n2kfra8p0\\localcache\\local-packages\\python310\\site-packages (from requests->transformers) (3.4.1)\n",
      "Requirement already satisfied: idna<4,>=2.5 in c:\\users\\tuanq\\appdata\\local\\packages\\pythonsoftwarefoundation.python.3.10_qbz5n2kfra8p0\\localcache\\local-packages\\python310\\site-packages (from requests->transformers) (3.10)\n",
      "Requirement already satisfied: certifi>=2017.4.17 in c:\\users\\tuanq\\appdata\\local\\packages\\pythonsoftwarefoundation.python.3.10_qbz5n2kfra8p0\\localcache\\local-packages\\python310\\site-packages (from requests->transformers) (2025.4.26)\n",
      "Requirement already satisfied: urllib3<3,>=1.21.1 in c:\\users\\tuanq\\appdata\\local\\packages\\pythonsoftwarefoundation.python.3.10_qbz5n2kfra8p0\\localcache\\local-packages\\python310\\site-packages (from requests->transformers) (1.26.20)\n"
     ]
    },
    {
     "name": "stderr",
     "output_type": "stream",
     "text": [
      "\n",
      "[notice] A new release of pip is available: 23.0.1 -> 25.1.1\n",
      "[notice] To update, run: C:\\Users\\tuanq\\AppData\\Local\\Microsoft\\WindowsApps\\PythonSoftwareFoundation.Python.3.10_qbz5n2kfra8p0\\python.exe -m pip install --upgrade pip\n"
     ]
    }
   ],
   "source": [
    "!pip install transformers"
   ]
  },
  {
   "cell_type": "code",
   "execution_count": 2,
   "id": "4f2bd9c7",
   "metadata": {},
   "outputs": [
    {
     "name": "stdout",
     "output_type": "stream",
     "text": [
      "Looking in indexes: https://download.pytorch.org/whl/cpu\n",
      "Requirement already satisfied: torch in c:\\users\\tuanq\\appdata\\local\\packages\\pythonsoftwarefoundation.python.3.10_qbz5n2kfra8p0\\localcache\\local-packages\\python310\\site-packages (2.7.0+cpu)\n",
      "Requirement already satisfied: torchvision in c:\\users\\tuanq\\appdata\\local\\packages\\pythonsoftwarefoundation.python.3.10_qbz5n2kfra8p0\\localcache\\local-packages\\python310\\site-packages (0.22.0+cpu)\n",
      "Requirement already satisfied: torchaudio in c:\\users\\tuanq\\appdata\\local\\packages\\pythonsoftwarefoundation.python.3.10_qbz5n2kfra8p0\\localcache\\local-packages\\python310\\site-packages (2.7.0+cpu)\n",
      "Requirement already satisfied: fsspec in c:\\users\\tuanq\\appdata\\local\\packages\\pythonsoftwarefoundation.python.3.10_qbz5n2kfra8p0\\localcache\\local-packages\\python310\\site-packages (from torch) (2025.3.2)\n",
      "Requirement already satisfied: networkx in c:\\users\\tuanq\\appdata\\local\\packages\\pythonsoftwarefoundation.python.3.10_qbz5n2kfra8p0\\localcache\\local-packages\\python310\\site-packages (from torch) (3.3)\n",
      "Requirement already satisfied: sympy>=1.13.3 in c:\\users\\tuanq\\appdata\\local\\packages\\pythonsoftwarefoundation.python.3.10_qbz5n2kfra8p0\\localcache\\local-packages\\python310\\site-packages (from torch) (1.13.3)\n",
      "Requirement already satisfied: typing-extensions>=4.10.0 in c:\\users\\tuanq\\appdata\\local\\packages\\pythonsoftwarefoundation.python.3.10_qbz5n2kfra8p0\\localcache\\local-packages\\python310\\site-packages (from torch) (4.13.2)\n",
      "Requirement already satisfied: jinja2 in c:\\users\\tuanq\\appdata\\local\\packages\\pythonsoftwarefoundation.python.3.10_qbz5n2kfra8p0\\localcache\\local-packages\\python310\\site-packages (from torch) (3.1.6)\n",
      "Requirement already satisfied: filelock in c:\\users\\tuanq\\appdata\\local\\packages\\pythonsoftwarefoundation.python.3.10_qbz5n2kfra8p0\\localcache\\local-packages\\python310\\site-packages (from torch) (3.18.0)\n",
      "Requirement already satisfied: numpy in c:\\users\\tuanq\\appdata\\local\\packages\\pythonsoftwarefoundation.python.3.10_qbz5n2kfra8p0\\localcache\\local-packages\\python310\\site-packages (from torchvision) (1.26.4)\n",
      "Requirement already satisfied: pillow!=8.3.*,>=5.3.0 in c:\\users\\tuanq\\appdata\\local\\packages\\pythonsoftwarefoundation.python.3.10_qbz5n2kfra8p0\\localcache\\local-packages\\python310\\site-packages (from torchvision) (11.2.1)\n",
      "Requirement already satisfied: mpmath<1.4,>=1.1.0 in c:\\users\\tuanq\\appdata\\local\\packages\\pythonsoftwarefoundation.python.3.10_qbz5n2kfra8p0\\localcache\\local-packages\\python310\\site-packages (from sympy>=1.13.3->torch) (1.3.0)\n",
      "Requirement already satisfied: MarkupSafe>=2.0 in c:\\users\\tuanq\\appdata\\local\\packages\\pythonsoftwarefoundation.python.3.10_qbz5n2kfra8p0\\localcache\\local-packages\\python310\\site-packages (from jinja2->torch) (3.0.2)\n"
     ]
    },
    {
     "name": "stderr",
     "output_type": "stream",
     "text": [
      "\n",
      "[notice] A new release of pip is available: 23.0.1 -> 25.1.1\n",
      "[notice] To update, run: C:\\Users\\tuanq\\AppData\\Local\\Microsoft\\WindowsApps\\PythonSoftwareFoundation.Python.3.10_qbz5n2kfra8p0\\python.exe -m pip install --upgrade pip\n"
     ]
    }
   ],
   "source": [
    "!pip install torch torchvision torchaudio --index-url https://download.pytorch.org/whl/cpu"
   ]
  },
  {
   "cell_type": "code",
   "execution_count": 3,
   "id": "d6810254",
   "metadata": {},
   "outputs": [],
   "source": [
    "import findspark\n",
    "findspark.init(\"C:\\spark-3.5.5-bin-hadoop3\")\n",
    "import pyspark\n",
    "from pyspark.sql import SparkSession\n",
    "\n",
    "scala_version = \"2.12\"\n",
    "spark_version = \"3.5.5\"\n",
    "packages = [\n",
    "    f\"org.apache.spark:spark-sql-kafka-0-10_{scala_version}:{spark_version}\",\n",
    "    \"org.apache.kafka:kafka-clients:3.6.0\"\n",
    "]\n",
    "\n",
    "# spark = SparkSession.builder \\\n",
    "#     .master(\"local\") \\\n",
    "#     .appName(\"kafka-example\") \\ \n",
    "#     .config(\"spark.jars.packages\", \",\".join(packages)) \\\n",
    "#     .getOrCreate()\n",
    "    \n",
    "spark = SparkSession.builder \\\n",
    "    .appName(\"kafka-example\") \\\n",
    "    .master(\"local\") \\\n",
    "    .config(\"spark.jars.packages\", \",\".join(packages)) \\\n",
    "    .config(\"spark.sql.streaming.forceDeleteTempCheckpointLocation\", \"true\") \\\n",
    "    .config(\"spark.hadoop.io.nativeio.enabled\", \"false\") \\\n",
    "    .config(\"spark.sql.broadcastTimeout\", \"600\") \\\n",
    "    .getOrCreate()"
   ]
  },
  {
   "cell_type": "code",
   "execution_count": 6,
   "id": "0dcb40b5",
   "metadata": {},
   "outputs": [
    {
     "name": "stdout",
     "output_type": "stream",
     "text": [
      "Requirement already satisfied: pyarrow in c:\\users\\tuanq\\appdata\\local\\packages\\pythonsoftwarefoundation.python.3.10_qbz5n2kfra8p0\\localcache\\local-packages\\python310\\site-packages (20.0.0)\n"
     ]
    },
    {
     "name": "stderr",
     "output_type": "stream",
     "text": [
      "\n",
      "[notice] A new release of pip is available: 23.0.1 -> 25.1.1\n",
      "[notice] To update, run: C:\\Users\\tuanq\\AppData\\Local\\Microsoft\\WindowsApps\\PythonSoftwareFoundation.Python.3.10_qbz5n2kfra8p0\\python.exe -m pip install --upgrade pip\n"
     ]
    }
   ],
   "source": [
    "!pip install pyarrow\n"
   ]
  },
  {
   "cell_type": "code",
   "execution_count": null,
   "id": "0b4c9d11",
   "metadata": {},
   "outputs": [
    {
     "name": "stdout",
     "output_type": "stream",
     "text": [
      "+-------+\n",
      "|comment|\n",
      "+-------+\n",
      "+-------+\n",
      "\n"
     ]
    },
    {
     "data": {
      "text/plain": [
       "None"
      ]
     },
     "metadata": {},
     "output_type": "display_data"
    }
   ],
   "source": [
    "import torch\n",
    "from transformers import AutoTokenizer, AutoModelForSequenceClassification\n",
    "from transformers import pipeline\n",
    "from pyspark.sql.functions import get_json_object, col, udf, pandas_udf\n",
    "from pyspark.sql.types import StringType, StructType, StructField, IntegerType\n",
    "from kafka import KafkaConsumer\n",
    "import json\n",
    "import pandas as pd\n",
    "from time import sleep\n",
    "from IPython.display import display, clear_output\n",
    "\n",
    "# Setup model\n",
    "model = AutoModelForSequenceClassification.from_pretrained(\"unitary/toxic-bert\")\n",
    "tokenizer = AutoTokenizer.from_pretrained(\"unitary/toxic-bert\")\n",
    "classifier = pipeline(\"text-classification\", model=model, tokenizer=tokenizer, return_all_scores=True, truncation=True, max_length=512)\n",
    "\n",
    "# # Predict function: returns top label or multiple labels\n",
    "# def predict_top_label(text, threshold=0.6)-> str:\n",
    "#     scores = classifier(text)[0]\n",
    "#     toxic_labels = [s for s in scores if s['score'] >= threshold]\n",
    "#     if toxic_labels:\n",
    "#         return toxic_labels[0]['label']  # Or return all if you want multi-label\n",
    "#     return 'not_toxic'\n",
    "\n",
    "# # Wrap it as a Spark UDF\n",
    "# predict_udf = udf(predict_top_label, StringType())\n",
    "\n",
    "@pandas_udf(StringType())\n",
    "def predict_batch_udf(texts: pd.Series) -> pd.Series:\n",
    "    # Load once per worker\n",
    "    if not hasattr(predict_batch_udf, \"classifier\"):\n",
    "        model = AutoModelForSequenceClassification.from_pretrained(\"unitary/toxic-bert\")\n",
    "        tokenizer = AutoTokenizer.from_pretrained(\"unitary/toxic-bert\")\n",
    "        predict_batch_udf.classifier = pipeline(\n",
    "            \"text-classification\",\n",
    "            model=model,\n",
    "            tokenizer=tokenizer,\n",
    "            return_all_scores=True\n",
    "        )\n",
    "\n",
    "    def predict_label(text: str) -> str:\n",
    "        try:\n",
    "            scores = predict_batch_udf.classifier(text)[0]\n",
    "            for s in scores:\n",
    "                if s[\"score\"] >= 0.6:\n",
    "                    return s[\"label\"]\n",
    "            return \"not_toxic\"\n",
    "        except Exception:\n",
    "            return \"error\"\n",
    "\n",
    "    return texts.apply(predict_label)\n",
    "\n",
    "topic_name = 'youtube-comments-5'\n",
    "kafka_server= 'localhost:9092'\n",
    "\n",
    "schema = StructType([\n",
    "    StructField(\"comment_id\", StringType()),\n",
    "    StructField(\"author\", StringType()),\n",
    "    StructField(\"text\", StringType()),\n",
    "    StructField(\"published_at\", StringType()),\n",
    "    StructField(\"like_count\", IntegerType())\n",
    "])\n",
    "\n",
    "kafkaDf = spark.readStream \\\n",
    "        .format(\"kafka\") \\\n",
    "        .option(\"kafka.bootstrap.servers\", kafka_server) \\\n",
    "        .option(\"subscribe\", topic_name) \\\n",
    "        .option(\"startingOffsets\", \"latest\") \\\n",
    "        .load()\n",
    "\n",
    "kafkaDf2 = kafkaDf.selectExpr(\n",
    "    \"CAST(key AS STRING) as key\",\n",
    "    \"CAST(value AS STRING) as value\",\n",
    "    \"CAST(timestamp AS STRING) as timestamp\"\n",
    ")\n",
    "\n",
    "parsedDF = kafkaDf2.select(get_json_object(col(\"value\"), \"$.comment\").alias(\"comment\"))\n",
    "\n",
    "predictedDf = parsedDF.withColumn(\"predicted_label\", predict_batch_udf(col(\"comment\")))\n",
    "\n",
    "# from random import randint\n",
    "# randNum=str(randint(0,10000))\n",
    "qname = \"predictions\"\n",
    "\n",
    "# Output to console (for debugging)\n",
    "query = (predictedDf.writeStream \\\n",
    "    .queryName(qname) \\\n",
    "    .format(\"memory\") \\\n",
    "    .outputMode(\"append\") \\\n",
    "    # .option(\"checkpointLocation\", \"file:///C:/tmp/spark_ckpt_yt\") \\\n",
    "    .trigger(processingTime=\"3 seconds\") \\\n",
    "    .start())\n",
    "    # .option(\"kafka.bootstrap.servers\", kafka_server) \\\n",
    "    # .option(\"topic\", topic_name) \\\n",
    "    # .option(\"checkpointLocation\", \"C:/tmp/spark_checkpoints\") \\\n",
    "    # .option(\"startingOffsets\", \"latest\") \\\n",
    "\n",
    "# query.awaitTermination()\n",
    "\n",
    "# print(\"Active?\", query.isActive)\n",
    "try:\n",
    "    while True:\n",
    "        df = spark.sql(\"SELECT * FROM predictions\")\n",
    "        display(df.show())\n",
    "        sleep(5)\n",
    "        clear_output(wait=True)\n",
    "except KeyboardInterrupt:\n",
    "    print(\"Interrupted by user — stopping streams...\")\n",
    "    \n",
    "except Exception as e:\n",
    "    print(\"Streaming failed:\", e)\n",
    "    \n",
    "# from pyspark.sql.functions import to_json, struct\n",
    "\n",
    "# for x in range(0, 2000):\n",
    "#     try:\n",
    "#         print(\"Showing live view refreshed every 5 seconds\")\n",
    "#         print(f\"Seconds passed: {x*5}\")\n",
    "        \n",
    "#         predictedDf = parsedDF.withColumn(\"predicted_label\", predict_batch_udf(col(\"comment\")))\n",
    "#         # # 1) bring to pandas\n",
    "#         # pdf = batchDF.toPandas()\n",
    "\n",
    "#         # # 2) model inference in pandas\n",
    "#         # pdf[\"predicted_label\"] = pdf[\"comment\"].apply(predict_top_label)\n",
    "\n",
    "#         # 3) display\n",
    "#         display(predictedDf.toPandas())\n",
    "        \n",
    "#         sleep(5)\n",
    "#         clear_output(wait=True)\n",
    "#     except KeyboardInterrupt:\n",
    "#         print(\"break\")\n",
    "#         break\n",
    "\n",
    "# print(\"Live view ended...\")\n",
    "\n",
    "# for x in range(0, 2000):\n",
    "#     try:\n",
    "#         print(\"Showing live view refreshed every 5 seconds\")\n",
    "#         print(f\"Seconds passed: {x*5}\")\n",
    "#         result1 = spark.sql(f\"SELECT * from predictions\")\n",
    "#         display(result1.toPandas())\n",
    "#         sleep(5)\n",
    "#         clear_output(wait=True)\n",
    "#     except KeyboardInterrupt:\n",
    "#         print(\"break\")\n",
    "#         break\n",
    "\n"
   ]
  }
 ],
 "metadata": {
  "kernelspec": {
   "display_name": "Python 3",
   "language": "python",
   "name": "python3"
  },
  "language_info": {
   "codemirror_mode": {
    "name": "ipython",
    "version": 3
   },
   "file_extension": ".py",
   "mimetype": "text/x-python",
   "name": "python",
   "nbconvert_exporter": "python",
   "pygments_lexer": "ipython3",
   "version": "3.10.11"
  }
 },
 "nbformat": 4,
 "nbformat_minor": 5
}
