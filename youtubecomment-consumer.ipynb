{
 "cells": [
  {
   "cell_type": "code",
   "execution_count": 8,
   "id": "476d5f95",
   "metadata": {},
   "outputs": [
    {
     "name": "stdout",
     "output_type": "stream",
     "text": [
      "Requirement already satisfied: transformers in c:\\users\\tuanq\\appdata\\local\\packages\\pythonsoftwarefoundation.python.3.10_qbz5n2kfra8p0\\localcache\\local-packages\\python310\\site-packages (4.51.3)\n",
      "Requirement already satisfied: tokenizers<0.22,>=0.21 in c:\\users\\tuanq\\appdata\\local\\packages\\pythonsoftwarefoundation.python.3.10_qbz5n2kfra8p0\\localcache\\local-packages\\python310\\site-packages (from transformers) (0.21.1)\n",
      "Requirement already satisfied: packaging>=20.0 in c:\\users\\tuanq\\appdata\\local\\packages\\pythonsoftwarefoundation.python.3.10_qbz5n2kfra8p0\\localcache\\local-packages\\python310\\site-packages (from transformers) (25.0)\n",
      "Requirement already satisfied: numpy>=1.17 in c:\\users\\tuanq\\appdata\\local\\packages\\pythonsoftwarefoundation.python.3.10_qbz5n2kfra8p0\\localcache\\local-packages\\python310\\site-packages (from transformers) (1.26.4)\n",
      "Requirement already satisfied: requests in c:\\users\\tuanq\\appdata\\local\\packages\\pythonsoftwarefoundation.python.3.10_qbz5n2kfra8p0\\localcache\\local-packages\\python310\\site-packages (from transformers) (2.32.3)\n",
      "Requirement already satisfied: huggingface-hub<1.0,>=0.30.0 in c:\\users\\tuanq\\appdata\\local\\packages\\pythonsoftwarefoundation.python.3.10_qbz5n2kfra8p0\\localcache\\local-packages\\python310\\site-packages (from transformers) (0.31.1)\n",
      "Requirement already satisfied: filelock in c:\\users\\tuanq\\appdata\\local\\packages\\pythonsoftwarefoundation.python.3.10_qbz5n2kfra8p0\\localcache\\local-packages\\python310\\site-packages (from transformers) (3.18.0)\n",
      "Requirement already satisfied: safetensors>=0.4.3 in c:\\users\\tuanq\\appdata\\local\\packages\\pythonsoftwarefoundation.python.3.10_qbz5n2kfra8p0\\localcache\\local-packages\\python310\\site-packages (from transformers) (0.5.3)\n",
      "Requirement already satisfied: regex!=2019.12.17 in c:\\users\\tuanq\\appdata\\local\\packages\\pythonsoftwarefoundation.python.3.10_qbz5n2kfra8p0\\localcache\\local-packages\\python310\\site-packages (from transformers) (2024.11.6)\n",
      "Requirement already satisfied: pyyaml>=5.1 in c:\\users\\tuanq\\appdata\\local\\packages\\pythonsoftwarefoundation.python.3.10_qbz5n2kfra8p0\\localcache\\local-packages\\python310\\site-packages (from transformers) (6.0.2)\n",
      "Requirement already satisfied: tqdm>=4.27 in c:\\users\\tuanq\\appdata\\local\\packages\\pythonsoftwarefoundation.python.3.10_qbz5n2kfra8p0\\localcache\\local-packages\\python310\\site-packages (from transformers) (4.67.1)\n",
      "Requirement already satisfied: typing-extensions>=3.7.4.3 in c:\\users\\tuanq\\appdata\\local\\packages\\pythonsoftwarefoundation.python.3.10_qbz5n2kfra8p0\\localcache\\local-packages\\python310\\site-packages (from huggingface-hub<1.0,>=0.30.0->transformers) (4.13.2)\n",
      "Requirement already satisfied: fsspec>=2023.5.0 in c:\\users\\tuanq\\appdata\\local\\packages\\pythonsoftwarefoundation.python.3.10_qbz5n2kfra8p0\\localcache\\local-packages\\python310\\site-packages (from huggingface-hub<1.0,>=0.30.0->transformers) (2025.3.2)\n",
      "Requirement already satisfied: colorama in c:\\users\\tuanq\\appdata\\local\\packages\\pythonsoftwarefoundation.python.3.10_qbz5n2kfra8p0\\localcache\\local-packages\\python310\\site-packages (from tqdm>=4.27->transformers) (0.4.6)\n",
      "Requirement already satisfied: charset-normalizer<4,>=2 in c:\\users\\tuanq\\appdata\\local\\packages\\pythonsoftwarefoundation.python.3.10_qbz5n2kfra8p0\\localcache\\local-packages\\python310\\site-packages (from requests->transformers) (3.4.1)\n",
      "Requirement already satisfied: urllib3<3,>=1.21.1 in c:\\users\\tuanq\\appdata\\local\\packages\\pythonsoftwarefoundation.python.3.10_qbz5n2kfra8p0\\localcache\\local-packages\\python310\\site-packages (from requests->transformers) (1.26.20)\n",
      "Requirement already satisfied: certifi>=2017.4.17 in c:\\users\\tuanq\\appdata\\local\\packages\\pythonsoftwarefoundation.python.3.10_qbz5n2kfra8p0\\localcache\\local-packages\\python310\\site-packages (from requests->transformers) (2025.4.26)\n",
      "Requirement already satisfied: idna<4,>=2.5 in c:\\users\\tuanq\\appdata\\local\\packages\\pythonsoftwarefoundation.python.3.10_qbz5n2kfra8p0\\localcache\\local-packages\\python310\\site-packages (from requests->transformers) (3.10)\n"
     ]
    },
    {
     "name": "stderr",
     "output_type": "stream",
     "text": [
      "\n",
      "[notice] A new release of pip is available: 23.0.1 -> 25.1.1\n",
      "[notice] To update, run: C:\\Users\\tuanq\\AppData\\Local\\Microsoft\\WindowsApps\\PythonSoftwareFoundation.Python.3.10_qbz5n2kfra8p0\\python.exe -m pip install --upgrade pip\n"
     ]
    }
   ],
   "source": [
    "!pip install transformers"
   ]
  },
  {
   "cell_type": "code",
   "execution_count": 4,
   "id": "4f2bd9c7",
   "metadata": {},
   "outputs": [
    {
     "name": "stdout",
     "output_type": "stream",
     "text": [
      "Looking in indexes: https://download.pytorch.org/whl/cpu\n",
      "Requirement already satisfied: torch in c:\\users\\tuanq\\appdata\\local\\packages\\pythonsoftwarefoundation.python.3.10_qbz5n2kfra8p0\\localcache\\local-packages\\python310\\site-packages (2.7.0+cpu)\n",
      "Requirement already satisfied: torchvision in c:\\users\\tuanq\\appdata\\local\\packages\\pythonsoftwarefoundation.python.3.10_qbz5n2kfra8p0\\localcache\\local-packages\\python310\\site-packages (0.22.0+cpu)\n",
      "Requirement already satisfied: torchaudio in c:\\users\\tuanq\\appdata\\local\\packages\\pythonsoftwarefoundation.python.3.10_qbz5n2kfra8p0\\localcache\\local-packages\\python310\\site-packages (2.7.0+cpu)\n",
      "Requirement already satisfied: filelock in c:\\users\\tuanq\\appdata\\local\\packages\\pythonsoftwarefoundation.python.3.10_qbz5n2kfra8p0\\localcache\\local-packages\\python310\\site-packages (from torch) (3.18.0)\n",
      "Requirement already satisfied: jinja2 in c:\\users\\tuanq\\appdata\\local\\packages\\pythonsoftwarefoundation.python.3.10_qbz5n2kfra8p0\\localcache\\local-packages\\python310\\site-packages (from torch) (3.1.6)\n",
      "Requirement already satisfied: fsspec in c:\\users\\tuanq\\appdata\\local\\packages\\pythonsoftwarefoundation.python.3.10_qbz5n2kfra8p0\\localcache\\local-packages\\python310\\site-packages (from torch) (2025.3.2)\n",
      "Requirement already satisfied: sympy>=1.13.3 in c:\\users\\tuanq\\appdata\\local\\packages\\pythonsoftwarefoundation.python.3.10_qbz5n2kfra8p0\\localcache\\local-packages\\python310\\site-packages (from torch) (1.13.3)\n",
      "Requirement already satisfied: typing-extensions>=4.10.0 in c:\\users\\tuanq\\appdata\\local\\packages\\pythonsoftwarefoundation.python.3.10_qbz5n2kfra8p0\\localcache\\local-packages\\python310\\site-packages (from torch) (4.13.2)\n",
      "Requirement already satisfied: networkx in c:\\users\\tuanq\\appdata\\local\\packages\\pythonsoftwarefoundation.python.3.10_qbz5n2kfra8p0\\localcache\\local-packages\\python310\\site-packages (from torch) (3.3)\n",
      "Requirement already satisfied: pillow!=8.3.*,>=5.3.0 in c:\\users\\tuanq\\appdata\\local\\packages\\pythonsoftwarefoundation.python.3.10_qbz5n2kfra8p0\\localcache\\local-packages\\python310\\site-packages (from torchvision) (11.2.1)\n",
      "Requirement already satisfied: numpy in c:\\users\\tuanq\\appdata\\local\\packages\\pythonsoftwarefoundation.python.3.10_qbz5n2kfra8p0\\localcache\\local-packages\\python310\\site-packages (from torchvision) (1.26.4)\n",
      "Requirement already satisfied: mpmath<1.4,>=1.1.0 in c:\\users\\tuanq\\appdata\\local\\packages\\pythonsoftwarefoundation.python.3.10_qbz5n2kfra8p0\\localcache\\local-packages\\python310\\site-packages (from sympy>=1.13.3->torch) (1.3.0)\n",
      "Requirement already satisfied: MarkupSafe>=2.0 in c:\\users\\tuanq\\appdata\\local\\packages\\pythonsoftwarefoundation.python.3.10_qbz5n2kfra8p0\\localcache\\local-packages\\python310\\site-packages (from jinja2->torch) (3.0.2)\n"
     ]
    },
    {
     "name": "stderr",
     "output_type": "stream",
     "text": [
      "\n",
      "[notice] A new release of pip is available: 23.0.1 -> 25.1.1\n",
      "[notice] To update, run: C:\\Users\\tuanq\\AppData\\Local\\Microsoft\\WindowsApps\\PythonSoftwareFoundation.Python.3.10_qbz5n2kfra8p0\\python.exe -m pip install --upgrade pip\n"
     ]
    }
   ],
   "source": [
    "!pip install torch torchvision torchaudio --index-url https://download.pytorch.org/whl/cpu"
   ]
  },
  {
   "cell_type": "code",
   "execution_count": 2,
   "id": "d6810254",
   "metadata": {},
   "outputs": [],
   "source": [
    "import findspark\n",
    "findspark.init(\"C:\\spark-3.5.5-bin-hadoop3\")\n",
    "import pyspark\n",
    "from pyspark.sql import SparkSession\n",
    "\n",
    "scala_version = \"2.12\"\n",
    "spark_version = \"3.5.5\"\n",
    "packages = [\n",
    "    f\"org.apache.spark:spark-sql-kafka-0-10_{scala_version}:{spark_version}\",\n",
    "    \"org.apache.kafka:kafka-clients:3.6.0\"\n",
    "]\n",
    "\n",
    "# spark = SparkSession.builder \\\n",
    "#     .master(\"local\") \\\n",
    "#     .appName(\"kafka-example\") \\ \n",
    "#     .config(\"spark.jars.packages\", \",\".join(packages)) \\\n",
    "#     .getOrCreate()\n",
    "    \n",
    "spark = SparkSession.builder \\\n",
    "    .appName(\"kafka-example\") \\\n",
    "    .master(\"local\") \\\n",
    "    .config(\"spark.jars.packages\", \",\".join(packages)) \\\n",
    "    .config(\"spark.hadoop.io.nativeio.enabled\", \"false\") \\\n",
    "    .config(\"spark.sql.broadcastTimeout\", \"600\") \\\n",
    "    .getOrCreate()"
   ]
  },
  {
   "cell_type": "code",
   "execution_count": 6,
   "id": "0dcb40b5",
   "metadata": {},
   "outputs": [
    {
     "name": "stdout",
     "output_type": "stream",
     "text": [
      "Requirement already satisfied: pyarrow in c:\\users\\tuanq\\appdata\\local\\packages\\pythonsoftwarefoundation.python.3.10_qbz5n2kfra8p0\\localcache\\local-packages\\python310\\site-packages (20.0.0)\n"
     ]
    },
    {
     "name": "stderr",
     "output_type": "stream",
     "text": [
      "\n",
      "[notice] A new release of pip is available: 23.0.1 -> 25.1.1\n",
      "[notice] To update, run: C:\\Users\\tuanq\\AppData\\Local\\Microsoft\\WindowsApps\\PythonSoftwareFoundation.Python.3.10_qbz5n2kfra8p0\\python.exe -m pip install --upgrade pip\n"
     ]
    }
   ],
   "source": [
    "!pip install pyarrow\n"
   ]
  },
  {
   "cell_type": "code",
   "execution_count": 1,
   "id": "0b4c9d11",
   "metadata": {},
   "outputs": [
    {
     "name": "stdout",
     "output_type": "stream",
     "text": [
      "{'comment': 'My math teacher used to play this every friday'}\n",
      "{'comment': \"2011?  Might as well be 1911.  It's just as extinct.  Pre-Trump, pre-Covid.  What could be  better than that?\"}\n",
      "{'comment': \"Is it serious that I'm the only one who likes this song?\"}\n",
      "{'comment': 'This reminds of Annoying orange 😮'}\n",
      "{'comment': 'Friday. Rebecca Black\\nNice song'}\n",
      "{'comment': 'Omg man 😂'}\n",
      "{'comment': \"I don't hate it. This is a classic\"}\n",
      "{'comment': '😂😂😂😂😂'}\n",
      "{'comment': 'btw why was a 12 year old driving'}\n",
      "{'comment': 'never knew this has more sense than the recent mvs coming out these days'}\n",
      "{'comment': 'American gentlemen, listen to Brazilian Funk, you will start to think this music is incredible'}\n",
      "{'comment': 'I don’t know why people were hating on her. If you were one of them, why would you do it. Rebecca Black is a sweet girl and I think she is great and a teeny bit cringe. No offense but ok. \\n2011: OMG, Cringe Alert\\n2025: What an Icon.'}\n",
      "{'comment': 'What is this 😭'}\n",
      "{'comment': 'Salvation is a fantastic EP by the way.'}\n",
      "{'comment': 'alguém em 2025 ouvindo essa pedrada?'}\n",
      "{'comment': 'itis fraidey'}\n",
      "{'comment': 'im pretty sure 80% people remember this only because of the annoying orange parody'}\n",
      "{'comment': 'You guys know annoying orange made another version of this? Fry-day!🍟'}\n",
      "{'comment': 'This song is absolute trash but I will admit I wish we can go back to these days when it was released.'}\n",
      "{'comment': \"I think it was meant to be a demonstration video to showcase the talent... And the lyrics weren't important\"}\n",
      "{'comment': 'Bruh I was 18 when this came out im barely hearing about it now lmao'}\n",
      "{'comment': 'No, Rebecca Black is a nice girl :)'}\n",
      "{'comment': 'Bro she has a terrible voice worst video on YouTube squeaking FrIdAy FrIdAy like quit music bitch even my family thinks your a failure your nothing in life stop making songs bitch'}\n",
      "{'comment': 'that rap by Fat Usher was sizzling 🔥 \\n\\nAlso, the friend on the left dancing in the car giving off \"forced at gun-point\" vibes.'}\n",
      "{'comment': 'Who’s here in May 2025 🤓'}\n",
      "{'comment': 'Yeah very nice song ❤'}\n",
      "{'comment': \"I asked ChatGPT what's the worst song and mentioned this song first 😂\"}\n",
      "{'comment': 'Jjjjjjjjjrfw’l; feckkneqvfjlhbqvfeklm/wvefmlkefkjlnwrbrehbkuwrgvhkubfdvsjinfrseacddsdcfdfs'}\n",
      "{'comment': 'Sssss'}\n",
      "{'comment': 'What was she thinking when she made this song?'}\n",
      "{'comment': 'Carl grimes?'}\n",
      "{'comment': 'Today it looks written by Ai 😂'}\n",
      "{'comment': 'So who came here cuz dashie made a parody when they heard this back then'}\n",
      "{'comment': 'mmxxv'}\n",
      "{'comment': 'QUEEN'}\n",
      "{'comment': 'First time actually listening to the song'}\n",
      "{'comment': 'This is a spoof music video right?'}\n",
      "{'comment': 'no one got it in 2011. this is camp'}\n",
      "{'comment': 'Why are kids driving'}\n",
      "{'comment': 'What were the righters thinking'}\n",
      "{'comment': 'I was today years old when I realized there’s a whole rap feature verse on this song'}\n",
      "{'comment': 'its just a fun song i like this'}\n",
      "{'comment': 'Even the rapper isn’t rapping'}\n",
      "{'comment': 'It is friyday  16 may 2025'}\n",
      "{'comment': 'Listened to this on a Friday in May 2025'}\n",
      "{'comment': '❤🎉 i love youuuu rebecca'}\n",
      "{'comment': \"Well. Shes got millions of streams, 900k active spotify listeners, and she's performing with katy perry.\\n\\nI guess she won 😂\"}\n",
      "{'comment': 'Gotta have cereal 😅\\n\\nRemember the dilemma of this song is whether she takes the back or front seat 😂'}\n",
      "{'comment': 'The last time I commented on this video, it was 12 years ago.'}\n",
      "{'comment': 'Me listening to this on Friday 5/16/25'}\n",
      "{'comment': 'Girl, I love your song'}\n",
      "{'comment': 'Like if u agree'}\n",
      "{'comment': 'My teacher plays this on Friday'}\n",
      "{'comment': 'We listen to this every Friday in my work van. My apprentices love it now.'}\n",
      "{'comment': \"It's friday bitch\"}\n",
      "{'comment': 'You know what day of the week it is😌'}\n",
      "{'comment': 'ITS FRIDAY MFS'}\n",
      "{'comment': 'Its friday friday gotta get drunk on friday'}\n",
      "{'comment': '2025'}\n",
      "{'comment': 'Wow 😂'}\n",
      "{'comment': \"I trekked all the way over here 'cause I asked that AI what one of the absolute worst songs ever was, and this tune is what it coughed up as the bottom of the barrel😋\"}\n",
      "{'comment': 'How it can be legal to publish this kind of trash?'}\n",
      "{'comment': 'top 10 song of all time.'}\n",
      "{'comment': \"Non capisco perché all'epoca questa canzone sia stata odiata. L'ho ascoltata casualmente e la trovo una canzone simpatica ed innocente. \\nA kiss from Italy❤❤\"}\n",
      "{'comment': '2012 Rebecca when song is over “I guess you guys aren’t ready for that yet, but your kids are gonna love it”\\n\\n2025, we back here vibing to this classic.'}\n",
      "{'comment': 'My regi teacher was blasting this-'}\n",
      "{'comment': 'I remember this song with nostalgia, this song was so innocent and she so cute and sweet, love from Italy.'}\n",
      "{'comment': 'well, actual music has worse lyrics, this is decent next to new ones'}\n",
      "{'comment': 'In 2025 She did not deserve literal death threats for a silly song (even if it had been her to write it). If Charlie xcx put this in brat people would praise it tbh.'}\n",
      "{'comment': 'Me:Seven AM Waking in the kitchen🍊'}\n",
      "{'comment': 'What a banger 🎉😅'}\n",
      "{'comment': 'Happy Friday 🎉'}\n",
      "{'comment': 'Who’s here in 2025'}\n",
      "{'comment': 'absolute trash'}\n",
      "{'comment': 'Shout out to all the real ones at NW!  You know who you are!'}\n",
      "{'comment': 'Happy Friday!'}\n",
      "{'comment': 'Every Friday in the morning I listen to this'}\n",
      "{'comment': \"If this song doesn't make you smile than nothing will. It reminds us of simpler times. After this was released social bullying began and now it's all we see. Enjoy what was.\"}\n",
      "{'comment': \"13 years ago when I first listened to this song in my 20s it was not more than a joke for us. Now, 13 years later dealing with daily corporate gruel somehow this song reminds me of the different and funny time in my life. Sure, it's silly but it is a relict from a simpler times.\"}\n",
      "{'comment': 'They fucked up her voice so badly! You can hear her actual voice in the background and it seems good and strong'}\n",
      "{'comment': 'Lmao letting her voice sound like this. Her seats gonna be the trunk and being taken to the cliff'}\n",
      "{'comment': 'This is my every Friday morning soundtrack 🤣🤣\\nFriday 16th May 2025'}\n",
      "{'comment': \"Checking in because it's Friday\"}\n",
      "{'comment': 'I just saw the credits on Spotify and this woman didn’t even TOUCH that pen that wrote this song. It was 3 adults 🤣'}\n",
      "{'comment': 'Songs better than Beyoncé cowgirl bullshit'}\n",
      "{'comment': \"we didn't know how good we had it\"}\n",
      "{'comment': 'She was just a teenager my age... now she looks like a lady while i still look the same I did....'}\n",
      "{'comment': 'This song is still such a boooop!'}\n",
      "{'comment': 'YOU ATE❤❤❤❤'}\n",
      "{'comment': 'Weekly views for this song                     ______\\n                                                                      |         |\\n                                                                      |         |\\n                                                                      |         |\\n_______   _______   _________    ________  |         |\\n|            |  |            |  |                |   |             |  |         |\\nMonday Tuesday Wednesday Thursday Friday'}\n",
      "break\n"
     ]
    }
   ],
   "source": [
    "from kafka import KafkaConsumer\n",
    "from json import loads\n",
    "\n",
    "topic_name = 'youtube-comments-5'\n",
    "kafka_server= 'localhost:9092'\n",
    "GROUP_ID= 'yt-comment-group'\n",
    "\n",
    "consumer = KafkaConsumer(\n",
    "    topic_name,\n",
    "    bootstrap_servers=kafka_server,\n",
    "    group_id=GROUP_ID,\n",
    "    auto_offset_reset='latest',\n",
    "    enable_auto_commit=True,\n",
    "    value_deserializer=lambda x: loads(x.decode('utf-8'))\n",
    ")\n",
    "\n",
    "try:\n",
    "    for msg in consumer:\n",
    "        comment = msg.value\n",
    "        print(comment)\n",
    "except KeyboardInterrupt:\n",
    "    # logger.info(\"Stopping consumer.\")\n",
    "    print(\"break\")\n",
    "finally:\n",
    "    consumer.close()\n",
    "\n",
    "\n"
   ]
  }
 ],
 "metadata": {
  "kernelspec": {
   "display_name": "Python 3",
   "language": "python",
   "name": "python3"
  },
  "language_info": {
   "codemirror_mode": {
    "name": "ipython",
    "version": 3
   },
   "file_extension": ".py",
   "mimetype": "text/x-python",
   "name": "python",
   "nbconvert_exporter": "python",
   "pygments_lexer": "ipython3",
   "version": "3.10.11"
  }
 },
 "nbformat": 4,
 "nbformat_minor": 5
}
